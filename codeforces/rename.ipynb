{
 "cells": [
  {
   "cell_type": "code",
   "execution_count": 3,
   "id": "6795b271",
   "metadata": {},
   "outputs": [],
   "source": [
    "import os\n",
    "def rename(target):\n",
    "    for name in os.listdir():\n",
    "        if 'XX' in name:\n",
    "            os.rename(name, name.replace('XX', target))"
   ]
  },
  {
   "cell_type": "code",
   "execution_count": 4,
   "id": "13c67fc2",
   "metadata": {},
   "outputs": [],
   "source": [
    "rename('68')"
   ]
  },
  {
   "cell_type": "code",
   "execution_count": 1,
   "id": "00ad6c6c",
   "metadata": {},
   "outputs": [],
   "source": [
    "with open('./cf_1669B_testcase.txt', 'w') as f:\n",
    "    f.write('10000\\n')\n",
    "    for _ in range(10000):\n",
    "        f.write('20\\n')\n",
    "        for i in range(20,10,-1):\n",
    "            f.write(f\"{i} {i} \")\n",
    "        f.write('\\n')"
   ]
  },
  {
   "cell_type": "code",
   "execution_count": null,
   "id": "d636bf15",
   "metadata": {},
   "outputs": [],
   "source": []
  }
 ],
 "metadata": {
  "kernelspec": {
   "display_name": "Python 3 (ipykernel)",
   "language": "python",
   "name": "python3"
  },
  "language_info": {
   "codemirror_mode": {
    "name": "ipython",
    "version": 3
   },
   "file_extension": ".py",
   "mimetype": "text/x-python",
   "name": "python",
   "nbconvert_exporter": "python",
   "pygments_lexer": "ipython3",
   "version": "3.10.2"
  }
 },
 "nbformat": 4,
 "nbformat_minor": 5
}
